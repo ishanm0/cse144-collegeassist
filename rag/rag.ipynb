{
 "cells": [
  {
   "cell_type": "code",
   "execution_count": null,
   "metadata": {},
   "outputs": [],
   "source": [
    "from dotenv import load_dotenv\n",
    "import os\n",
    "import requests\n",
    "from openai import OpenAI\n",
    "from bs4 import BeautifulSoup\n",
    "import markdownify\n",
    "import re\n",
    "\n",
    "load_dotenv()\n",
    "\n",
    "openai_api_key = os.getenv(\"OPENAI_API_KEY\")\n",
    "google_api_key = os.getenv(\"GOOGLE_API_KEY\")\n",
    "search_engine_id = os.getenv(\"SEARCH_ENGINE_ID\")\n",
    "\n",
    "openai_client = OpenAI(api_key=openai_api_key)\n",
    "\n",
    "search_url = \"https://customsearch.googleapis.com/customsearch/v1\""
   ]
  },
  {
   "cell_type": "code",
   "execution_count": null,
   "metadata": {},
   "outputs": [],
   "source": [
    "def get_search_results(query, site=\"\"):\n",
    "    params = {\n",
    "        \"q\": query,\n",
    "        \"key\": google_api_key,\n",
    "        \"cx\": search_engine_id,\n",
    "        \"siteSearch\": site,\n",
    "        \"siteSearchFilter\": \"i\",\n",
    "    }\n",
    "\n",
    "    response = requests.get(search_url, params=params)\n",
    "    return response.json()\n",
    "\n",
    "def get_page_content(results):\n",
    "    content = dict()\n",
    "\n",
    "    for item in results[\"items\"]:\n",
    "        link = item[\"link\"]\n",
    "        response = requests.get(link)\n",
    "        \n",
    "        soup = BeautifulSoup(response.text, \"html.parser\")\n",
    "        html = soup.find(\"main\") or soup.find(\"body\") or soup\n",
    "        text = markdownify.markdownify(str(html), strip=[\"a\", \"img\"])\n",
    "        text = re.sub(r\"\\n\\n+\", \"\\n\", text).strip()\n",
    "\n",
    "        content[link] = text\n",
    "\n",
    "    return content\n",
    "\n",
    "def filter_content(query, content):\n",
    "    filtered_content = dict()\n",
    "\n",
    "    prompt = \"\"\"You are given a web page content formatted in markdown. Filter out any text in its original form that best relates to the user's query.\n",
    "    If no content matches the user's query, respond nothing with no ellipses or characters.\"\"\"\n",
    "\n",
    "    for url, text in content.items():\n",
    "        msgs = [\n",
    "            {\"role\": \"system\", \"content\": prompt},\n",
    "            {\n",
    "                \"role\": \"user\", \n",
    "                \"content\": f\"Here is the user's query: {query}\\nHere is the markdown content: {text}\"\n",
    "            }\n",
    "        ]\n",
    "\n",
    "        response = openai_client.chat.completions.create(model=\"gpt-4o-mini\", messages=msgs).choices[0].message.content\n",
    "        # if response == \"\":\n",
    "        #     continue\n",
    "        \n",
    "        print(response)\n",
    "        filtered_content[url] = response\n",
    "\n",
    "    return filtered_content\n"
   ]
  },
  {
   "cell_type": "code",
   "execution_count": null,
   "metadata": {},
   "outputs": [],
   "source": [
    "query = \"what is cse 144 at ucsc\"\n",
    "results = get_search_results(query, \"ucsc.edu\")\n",
    "# get_html(results)\n",
    "# results[\"items\"]\n",
    "content = get_page_content(results)\n",
    "content"
   ]
  },
  {
   "cell_type": "code",
   "execution_count": null,
   "metadata": {},
   "outputs": [],
   "source": [
    "filter_content(query, content)"
   ]
  }
 ],
 "metadata": {
  "kernelspec": {
   "display_name": "venv",
   "language": "python",
   "name": "python3"
  },
  "language_info": {
   "codemirror_mode": {
    "name": "ipython",
    "version": 3
   },
   "file_extension": ".py",
   "mimetype": "text/x-python",
   "name": "python",
   "nbconvert_exporter": "python",
   "pygments_lexer": "ipython3",
   "version": "3.12.4"
  }
 },
 "nbformat": 4,
 "nbformat_minor": 2
}
