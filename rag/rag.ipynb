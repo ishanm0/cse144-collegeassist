{
 "cells": [
  {
   "cell_type": "code",
   "execution_count": 2,
   "metadata": {},
   "outputs": [],
   "source": [
    "from dotenv import load_dotenv\n",
    "import os\n",
    "import requests\n",
    "from openai import OpenAI\n",
    "from bs4 import BeautifulSoup\n",
    "import markdownify\n",
    "import re\n",
    "\n",
    "load_dotenv()\n",
    "\n",
    "openai_api_key = os.getenv(\"OPENAI_API_KEY\")\n",
    "google_api_key = os.getenv(\"GOOGLE_API_KEY\")\n",
    "search_engine_id = os.getenv(\"SEARCH_ENGINE_ID\")\n",
    "\n",
    "openai_client = OpenAI(api_key=openai_api_key)\n",
    "\n",
    "search_url = \"https://customsearch.googleapis.com/customsearch/v1\""
   ]
  },
  {
   "cell_type": "code",
   "execution_count": 3,
   "metadata": {},
   "outputs": [],
   "source": [
    "def get_search_results(query, site=\"\"):\n",
    "    params = {\n",
    "        \"q\": query,\n",
    "        \"key\": google_api_key,\n",
    "        \"cx\": search_engine_id,\n",
    "        \"siteSearch\": site,\n",
    "        \"siteSearchFilter\": \"i\",\n",
    "    }\n",
    "\n",
    "    response = requests.get(search_url, params=params)\n",
    "    return response.json()\n",
    "\n",
    "def get_page_content(results):\n",
    "    content = dict()\n",
    "\n",
    "    for item in results[\"items\"]:\n",
    "        link = item[\"link\"]\n",
    "        response = requests.get(link)\n",
    "        \n",
    "        soup = BeautifulSoup(response.text, \"html.parser\")\n",
    "        html = soup.find(\"main\") or soup.find(\"body\") or soup\n",
    "        text = markdownify.markdownify(str(html), strip=[\"a\", \"img\"])\n",
    "        text = re.sub(r\"\\n\\n+\", \"\\n\", text).strip()\n",
    "\n",
    "        content[link] = text\n",
    "\n",
    "    return content\n",
    "\n",
    "def filter_content(query, content):\n",
    "    filtered_content = dict()\n",
    "\n",
    "    prompt = \"\"\"You are given a web page content formatted in markdown. Filter out any text in its original form that best relates to the user's query.\n",
    "    If no content matches the user's query, respond nothing with no ellipses or characters.\"\"\"\n",
    "\n",
    "    for url, text in content.items():\n",
    "        msgs = [\n",
    "            {\"role\": \"system\", \"content\": prompt},\n",
    "            {\n",
    "                \"role\": \"user\", \n",
    "                \"content\": f\"Here is the user's query: {query}\\nHere is the markdown content: {text}\"\n",
    "            }\n",
    "        ]\n",
    "\n",
    "        response = openai_client.chat.completions.create(model=\"gpt-4o-mini\", messages=msgs).choices[0].message.content\n",
    "        # if response == \"\":\n",
    "        #     continue\n",
    "        \n",
    "        # print(response)\n",
    "        filtered_content[url] = response\n",
    "\n",
    "    return filtered_content\n",
    "\n",
    "def generate_response(query, content):\n",
    "    prompt = \"\"\"You are an expert in answering questions about applying to universities for college applicants. \\\n",
    "        You are given a few documents formatted in markdown. Answer the student's question/query using only the information below. \\\n",
    "        Omit any irrelevant or duplicate information that might appear. There is no need to cite the sources; only provide a comprehensive answer.\"\"\"\n",
    "    \n",
    "    context = \"\"\n",
    "    for i, (_, text) in enumerate(content.items()):\n",
    "        if text == \"\":\n",
    "            continue\n",
    "\n",
    "        context += f\"Document {i}:\\n{text}\\n\\n\"\n",
    "    \n",
    "    msgs = [\n",
    "            {\"role\": \"system\", \"content\": prompt},\n",
    "            {\n",
    "                \"role\": \"user\", \n",
    "                \"content\": f\"Here is the student's question: {query}\\n\\nHere are the documents:\\n{context}\"\n",
    "            }\n",
    "        ]\n",
    "    \n",
    "    response = openai_client.chat.completions.create(model=\"gpt-4o-mini\", messages=msgs).choices[0].message.content\n",
    "    return response\n"
   ]
  },
  {
   "cell_type": "code",
   "execution_count": 7,
   "metadata": {},
   "outputs": [
    {
     "data": {
      "text/plain": [
       "{'https://nlp.ucsc.edu/': '* Search\\n* Log In\\n \\n* Facebook\\n* X\\n \\n \\nnlp@ucsc.edu\\n* Home\\n* About Us\\n* Program Overview\\n* Apply\\n* News\\n* Contact\\n \\n \\n \\nAPPLICATIONS ARE NOW OPEN!\\n--------------------------\\nWe are currently accepting',\n",
       " 'https://nlp.ucsc.edu/program-overview/': '* Search\\n* Log In\\n \\n* Facebook\\n* X\\n \\n \\nnlp@ucsc.edu\\n* Home\\n* About Us\\n* Program Overview\\n* Apply\\n* News\\n* Contact\\n \\n \\n \\nPROGRAM OVERVIEW\\n----------------\\n**Natural Language Processing (NLP)** combines',\n",
       " 'https://nlp.ucsc.edu/admissions/': '* Search\\n* Log In\\n \\n* Facebook\\n* X\\n \\n \\nnlp@ucsc.edu\\n* Home\\n* About Us\\n* Program Overview\\n* Apply\\n* News\\n* Contact\\n \\n \\n \\nADMISSIONS\\n----------\\n**Get ready to apply for Fall 2025 admission consideration',\n",
       " 'https://nlp.ucsc.edu/people/': '* Search\\n* Log In\\n \\n* Facebook\\n* X\\n \\n \\nnlp@ucsc.edu\\n* Home\\n* About Us\\n* Program Overview\\n* Apply\\n* News\\n* Contact\\n \\n \\n \\nPEOPLE OF NLP\\n-------------\\nLearn more about our team at NLP\\n===================',\n",
       " 'https://catalog.ucsc.edu/en/current/general-catalog/academic-units/baskin-engineering/computer-science-and-engineering/natural-language-processing-ms': 'Skip to main content\\nCatalog Search\\nSearch Options\\nEntire Catalog\\nPrograms\\nCourses\\nSearch\\nhttp://ucsc.smartcatalogiq.com/\\n4d79df8c\\\\-1311\\\\-4a17\\\\-bdac\\\\-ec90965c14c6\\nhttps://searchproxy.smartcatalogiq.co',\n",
       " 'https://nlp.ucsc.edu/people/current-students/': '* Search\\n* Log In\\n \\n* Facebook\\n* X\\n \\n \\nnlp@ucsc.edu\\n* Home\\n* About Us\\n* Program Overview\\n* Apply\\n* News\\n* Contact\\n \\n \\n \\nCURRENT STUDENTS\\n----------------\\n1. Home\\n\\xa0\\\\|\\xa03. People\\nMeet our talented studen',\n",
       " 'https://nlp.ucsc.edu/apply/': '* Search\\n* Log In\\n \\n* Facebook\\n* X\\n \\n \\nnlp@ucsc.edu\\n* Home\\n* About Us\\n* Program Overview\\n* Apply\\n* News\\n* Contact\\n \\n \\n \\nAPPLY TO THE NLP M.S. PROGRAM\\n-----------------------------\\nAPPLY STARTING OCT 1',\n",
       " 'https://nlp.ucsc.edu/faqs/': '* Search\\n* Log In\\n \\n* Facebook\\n* X\\n \\n \\nnlp@ucsc.edu\\n* Home\\n* About Us\\n* Program Overview\\n* Apply\\n* News\\n* Contact\\n \\n \\n \\nFREQUENTLY ASKED QUESTIONS\\n--------------------------\\n### **Thank you for your i',\n",
       " 'https://www.gradadmissions.ucsc.edu/nlp': 'Natural Language Processing (M.S.)\\n==================================\\nThe Natural Language Processing program offers a Master of Science degree.\\xa0\\n\\u200b\\n#### Important: Transcripts and Letters of Recommend',\n",
       " 'https://nlp.ucsc.edu/financials/': ''}"
      ]
     },
     "execution_count": 7,
     "metadata": {},
     "output_type": "execute_result"
    }
   ],
   "source": [
    "query = \"What is the NLP MS program at UCSC\"\n",
    "results = get_search_results(query, \"ucsc.edu\")\n",
    "# get_html(results)\n",
    "# results[\"items\"]\n",
    "content = get_page_content(results)\n",
    "{url: text[:200] for url, text in content.items()}"
   ]
  },
  {
   "cell_type": "code",
   "execution_count": 8,
   "metadata": {},
   "outputs": [],
   "source": [
    "filtered_content = filter_content(query, content)"
   ]
  },
  {
   "cell_type": "code",
   "execution_count": 9,
   "metadata": {},
   "outputs": [
    {
     "name": "stdout",
     "output_type": "stream",
     "text": [
      "What is the NLP MS program at UCSC\n"
     ]
    },
    {
     "data": {
      "text/plain": [
       "\"The Natural Language Processing (NLP) Master of Science program at the University of California, Santa Cruz (UCSC) is an intensive, professional master's program designed to develop expertise in computer programs that understand and generate human language. The program typically spans 15-18 months and is tailored for those with a strong background in computer science, linguistics, and artificial intelligence.\\n\\nKey features of the program include:\\n\\n- **Curriculum**: It emphasizes practical skills through courses focusing on core NLP algorithms, machine learning, and data analytics. The program includes six core courses worth 30 credits, two elective courses for 10 credits, and a 15-unit capstone project that provides real-world experience through team-based projects addressing industry-relevant NLP challenges.\\n\\n- **Industry Collaboration**: Students benefit from close collaboration with an advisory board of industry scientists, guest lectures, mentoring, and networking opportunities, enhancing the academic knowledge with real-world applications.\\n\\n- **Career Outcomes**: Approximately 90% of graduates find employment in NLP and related fields within six months of graduation, aiming to prepare students for a multibillion-dollar industry.\\n\\n- **Admissions Requirements**: To apply, candidates should hold a B.A. or B.S. in Computer Science or a related field with a GPA of 3.0 or better. Strong programming skills and coursework in discrete math, data structures, and probability/statistics are essential.\\n\\n- **Full-Time Commitment**: The program is conducted in-person at UCSC's Silicon Valley campus, expecting full-time enrollment, and is not designed to accommodate part-time students. \\n\\nFor potential applicants, the program does not require GRE scores for admission. However, students are advised to explore external funding opportunities as the program typically expects master's students to be self-supported. \\n\\nTo learn more or to apply, interested students can visit the program's official website.\""
      ]
     },
     "execution_count": 9,
     "metadata": {},
     "output_type": "execute_result"
    }
   ],
   "source": [
    "print(query)\n",
    "generate_response(query, filtered_content)"
   ]
  }
 ],
 "metadata": {
  "kernelspec": {
   "display_name": "venv",
   "language": "python",
   "name": "python3"
  },
  "language_info": {
   "codemirror_mode": {
    "name": "ipython",
    "version": 3
   },
   "file_extension": ".py",
   "mimetype": "text/x-python",
   "name": "python",
   "nbconvert_exporter": "python",
   "pygments_lexer": "ipython3",
   "version": "3.12.4"
  }
 },
 "nbformat": 4,
 "nbformat_minor": 2
}
