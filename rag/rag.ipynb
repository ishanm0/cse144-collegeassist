{
 "cells": [
  {
   "cell_type": "code",
   "execution_count": 22,
   "metadata": {},
   "outputs": [],
   "source": [
    "from dotenv import load_dotenv\n",
    "import os\n",
    "import requests\n",
    "from openai import OpenAI, AsyncOpenAI\n",
    "from bs4 import BeautifulSoup\n",
    "import markdownify\n",
    "import re\n",
    "import json\n",
    "import asyncio\n",
    "import threading\n",
    "\n",
    "load_dotenv()\n",
    "\n",
    "openai_api_key = os.getenv(\"OPENAI_API_KEY\")\n",
    "google_api_key = os.getenv(\"GOOGLE_API_KEY\")\n",
    "search_engine_id = os.getenv(\"SEARCH_ENGINE_ID\")\n",
    "\n",
    "openai_client = OpenAI(api_key=openai_api_key)\n",
    "async_openai_client = AsyncOpenAI(api_key=openai_api_key)\n",
    "\n",
    "search_url = \"https://customsearch.googleapis.com/customsearch/v1\""
   ]
  },
  {
   "cell_type": "code",
   "execution_count": null,
   "metadata": {},
   "outputs": [],
   "source": [
    "def get_search_results(query):\n",
    "    # Get base domain of the university mentioned in the query\n",
    "    prompt = \"\"\"Identify the institution mentioned in this user query, and respond with only the base domain of the corresponding institution. \\\n",
    "    If no institution is found within the query, respond with nothing.\"\"\"\n",
    "\n",
    "    msgs = [\n",
    "        {\"role\": \"system\", \"content\": prompt},\n",
    "        {\"role\": \"user\", \"content\": f\"Here is the user's query: {query}\"}\n",
    "    ]\n",
    "\n",
    "    response = openai_client.chat.completions.create(model=\"gpt-4o-mini\", messages=msgs, temperature=0).choices[0].message.content\n",
    "    site = response\n",
    "\n",
    "    params = {\n",
    "        \"q\": query,\n",
    "        \"key\": google_api_key,\n",
    "        \"cx\": search_engine_id,\n",
    "        \"siteSearch\": site,\n",
    "        \"siteSearchFilter\": \"i\",\n",
    "    }\n",
    "\n",
    "    headers = {\n",
    "        'User-Agent': 'Mozilla/5.0 (Windows NT 10.0; Win64; x64) AppleWebKit/537.36 (KHTML, like Gecko) Chrome/91.0.4472.124 Safari/537.36'\n",
    "    }\n",
    "    response = requests.get(search_url, params=params, headers=headers)\n",
    "    return response.json()\n",
    "\n",
    "def get_page_content(results):\n",
    "    headers = {\n",
    "        'User-Agent': 'Mozilla/5.0 (Windows NT 10.0; Win64; x64) AppleWebKit/537.36 (KHTML, like Gecko) Chrome/91.0.4472.124 Safari/537.36'\n",
    "    }\n",
    "\n",
    "    content = dict()\n",
    "\n",
    "    for item in results[\"items\"]:\n",
    "        link = item[\"link\"]\n",
    "        response = requests.get(link, headers=headers)\n",
    "        \n",
    "        soup = BeautifulSoup(response.text, \"html.parser\")\n",
    "        html = soup.find(\"main\") or soup.find(\"body\") or soup\n",
    "        text = markdownify.markdownify(str(html), strip=[\"a\", \"img\"])\n",
    "        text = re.sub(r\"\\n\\n+\", \"\\n\", text).strip()\n",
    "\n",
    "        content[link] = text\n",
    "\n",
    "    return content\n",
    "\n",
    "def generate_filtered_content(query, content, filtered_content):\n",
    "    prompt = \"\"\"You are given a web page content formatted in markdown. Filter out any text in its original form that best relates to the user's query.\n",
    "    If no content matches the user's query, respond nothing with no ellipses, characters, or words.\"\"\"\n",
    "\n",
    "    url, text = content\n",
    "\n",
    "    msgs = [\n",
    "        {\"role\": \"system\", \"content\": prompt},\n",
    "        {\n",
    "            \"role\": \"user\", \n",
    "            \"content\": f\"Here is the user's query: {query}\\nHere is the markdown content: {text}\"\n",
    "        }\n",
    "    ]\n",
    "\n",
    "    response = openai_client.chat.completions.create(model=\"gpt-4o-mini\", messages=msgs).choices[0].message.content\n",
    "    filtered_content[url] = response\n",
    "\n",
    "\n",
    "def filter_content(query, content):\n",
    "    filtered_content = dict()\n",
    "\n",
    "    threads = []\n",
    "    for url, text in content.items():\n",
    "        filtered_content[url] = \"\"\n",
    "        thread = threading.Thread(target=generate_filtered_content, args=(query, (url, text), filtered_content))\n",
    "        thread.start()\n",
    "        threads.append(thread)\n",
    "    \n",
    "    for thread in threads:\n",
    "        thread.join()   \n",
    "\n",
    "    return filtered_content\n",
    "\n",
    "def generate_response(query, content):\n",
    "    prompt = \"\"\"You are an expert in answering questions about applying to universities for college applicants. \\\n",
    "    You are given a few documents formatted in markdown. Answer the student's question/query using only the information below. \\\n",
    "    Omit any irrelevant or duplicate information that might appear. There is no need to cite the sources; only provide a comprehensive answer.\"\"\"\n",
    "    \n",
    "    context = \"\"\n",
    "    for i, (url, text) in enumerate(content.items()):\n",
    "        if text == \"\":\n",
    "            continue\n",
    "\n",
    "        context += f\"Document {i}:\\n{text}\\n\\n\"\n",
    "    \n",
    "    msgs = [\n",
    "            {\"role\": \"system\", \"content\": prompt},\n",
    "            {\n",
    "                \"role\": \"user\", \n",
    "                \"content\": f\"Here is the student's question: {query}\\n\\nHere are the documents:\\n{context}\"\n",
    "            }\n",
    "        ]\n",
    "    \n",
    "    response = openai_client.chat.completions.create(model=\"gpt-4o-mini\", messages=msgs).choices[0].message.content\n",
    "    return response\n"
   ]
  },
  {
   "cell_type": "code",
   "execution_count": 30,
   "metadata": {},
   "outputs": [
    {
     "data": {
      "text/plain": [
       "{'https://viterbigradadmission.usc.edu/programs/masters/msprograms/computer-science/ms-computer-science/': 'Programs  Master’s  Master’s Programs  Computer Science  MS in Computer Science\\n#### Master of Science in Computer Science\\n#### ApplicationDeadlines\\nSpring:  \\nSeptember 1\\nFall:  \\nDecember 15\\nUSC GRADU',\n",
       " 'https://gradadm.usc.edu/prospective-international-students/english-proficiency/': 'English Proficiency\\n===================\\nOn This Page\\n------------\\n Jump to a Section\\n \\n* English\\\\-Language Proficiency Requirements\\n* Test Score Guidelines\\n* TOEFL (Test of English as a Foreign Langua',\n",
       " 'https://www.cs.usc.edu/academic-programs/undergrad/': 'Explore Academic ProgramsB.S. Program\\n============\\nThere has never been a more exciting time to study computer science and we have four degree programs and a minor to help students explore all this dy',\n",
       " 'https://gradadm.usc.edu/domestic-students/how-to-apply/': 'How to Apply\\n============\\nOn This Page\\n------------\\n Jump to a Section\\n \\n* Step 1: Review Program and Application Requirements\\n* Step 2: Complete the Online Application\\n* Step 3: Pay your Application ',\n",
       " 'https://viterbigradadmission.usc.edu/programs/masters/faq/': 'Programs  Master’s  Frequently Asked Questions (FAQ)\\nFrequently Asked Questions (FAQ)\\n================================\\n**PhD Applicants:** In addition to this FAQ, please visit the PhD FAQ which has a',\n",
       " 'https://www.cs.usc.edu/ms-cs-new-student-guide/': 'Thomas Lord Department of Computer Science \\\\- Student Guide\\n===========================================================\\nLast Updated: December 19, 2023\\n##### Think of this webpage as your official han',\n",
       " 'https://www.cs.usc.edu/students/ms-students/approved-non-cs-courses/': 'Explore Student ResourcesApproved Non\\\\-CS Courses\\n========================\\n---\\n**M.S. students in the Computer Science general program can only take up to ONE (3\\\\-4 unit) course from approved EE, DSCI',\n",
       " 'https://viterbigradadmission.usc.edu/programs/masters/msprograms/computer-science/cs-eligibility/': \"Programs  Master’s  Master’s Programs  Computer Science  Computer Science Eligibility Criteria\\nComputer Science\\n================\\nEligibility Criteria\\n--------------------\\nApplicants to master's of sci\",\n",
       " 'https://viterbigradadmission.usc.edu/programs/masters/msprograms/computer-science/ms-cs-scientists-engineers/': 'Programs  Master’s  Master’s Programs  Computer Science  MS in Computer Science – Scientists and Engineers\\n#### MS in Computer Science \\\\- Scientists and Engineers\\n#### ApplicationDeadlines\\nSpring:  \\nS',\n",
       " 'https://viterbiadmission.usc.edu/transfer/': 'Skip to main content\\n* youtube\\n* instagram\\n* phone\\n* email\\n * PODCAST\\n* BLOG\\n* MEET STUDENTS\\n* CONTACT US\\nClose Search\\n \\n \\n \\nMenu   \\n* EVENTS \\\\& VISITS\\n* THE VITERBI EXPERIENCE\\n\\t+ About the School\\n\\t+ '}"
      ]
     },
     "execution_count": 30,
     "metadata": {},
     "output_type": "execute_result"
    }
   ],
   "source": [
    "query = \"What are some CS courses that I should already have taken to be considered for admission in the MS CS program at USC\"\n",
    "results = get_search_results(query)\n",
    "# get_html(results)\n",
    "# results[\"items\"]\n",
    "content = get_page_content(results)\n",
    "{url: text[:200] for url, text in content.items()}"
   ]
  },
  {
   "cell_type": "code",
   "execution_count": 31,
   "metadata": {},
   "outputs": [
    {
     "data": {
      "text/plain": [
       "{'https://viterbigradadmission.usc.edu/programs/masters/msprograms/computer-science/ms-computer-science/': 'Applicants are expected to have completed or be in process of completing an undergraduate degree in computer science or its equivalent. For those who do not, they should meet the eligibility criteria on our MSCS Eligibility Criteria page.',\n",
       " 'https://gradadm.usc.edu/prospective-international-students/english-proficiency/': '',\n",
       " 'https://www.cs.usc.edu/academic-programs/undergrad/': '',\n",
       " 'https://gradadm.usc.edu/domestic-students/how-to-apply/': 'Nothing',\n",
       " 'https://viterbigradadmission.usc.edu/programs/masters/faq/': 'Qualified applicants will have an undergraduate degree (Bachelor of Science or equivalent) in engineering/computer science, math, physics, or another hard science such as biology or chemistry, depending on the Master’s program. Please contact us if you have questions about your eligibility. We perform a holistic review of the entire application, including overall academic records and success in courses that emphasize quantitative, scientific, and engineering skills.',\n",
       " 'https://www.cs.usc.edu/ms-cs-new-student-guide/': 'The Computer Science Department’s website provides information about the requirements for all of our programs. You can click on “Academics” and then go to “M.S. Programs” to view the links for program requirements. \\n\\nStudents in our Scientists and Engineers program must complete CSCI 455x in their 1st semester.\\n\\nIf you are seeking specific resources for the M.S. program, the CS M.S. Program’s main resource page includes details about course requirements. Please visit: http://www.cs.usc.edu/students/ms-students/',\n",
       " 'https://www.cs.usc.edu/students/ms-students/approved-non-cs-courses/': '**A maximum of 4 units may be taken from approved 400-level courses in either Electrical Engineering or Computer Science; the remaining units must be approved courses at the 500 or 600 level.** \\n\\n**Recommended preparation: Background in computer security preferred. Recommended previous courses of study include computer science, electrical engineering, computer engineering, management information systems, and/or mathematics.**\\n\\n**Recommended Preparation: understanding of operating systems, networks, and databases; experience with probability, statistics, and programming. Duplicates Credit in DSCI 559.**\\n\\n* **Electrical Engineering**\\n* **Data Science**\\n* **Data Science & Operations**\\n* **Mechanical Engineering**\\n* **Math**\\n* **Industrial & Systems Engineering**',\n",
       " 'https://viterbigradadmission.usc.edu/programs/masters/msprograms/computer-science/cs-eligibility/': 'Applicants without a Bachelor’s degree in Computer Science will only be considered with coursework and demonstrated proficiency in a minimum of three (3) of the core Computer Science courses listed below and at least one (1) of the Computer Science related Mathematics Courses. \\n\\n##### Core Computer Science Courses\\n| Artificial Intelligence | Geometric Modeling |\\n| --- | --- |\\n| Brain Theory | Operating Systems |\\n| Compilers | Robotics |\\n| Computer Architecture | Software Design in Computer Science |\\n| Computer Organization | Software Engineering |\\n| Computer Communications | 3D Graphics and Rendering |\\n| Computer Vision | Web Technologies |\\n| Database Systems |  |\\n\\n##### Computer Science Related Mathematics Courses\\n| Algorithms |\\n| --- |\\n| Data Structures |\\n| Discrete Math |\\n| Discrete Structures |\\n| Numerical Computation |',\n",
       " 'https://viterbigradadmission.usc.edu/programs/masters/msprograms/computer-science/ms-cs-scientists-engineers/': \"Designed for students with a Bachelor’s degree in engineering or science but a limited background in computer science, this comprehensive program combines an introductory sequence of undergraduate preparatory and foundational coursework with all the graduate breadth requirements necessary to satisfy the traditional MS in Computer Science. \\n\\n**ELIGIBILITY CRITERIA**  \\nBachelor's degree from an accredited institution in any engineering or engineering-related disciplines including but not limited to: Mechanical Engineering, Electrical Engineering, Info Engineering, Automation, Materials Science, Communication Engineering, Mathematics, Physics, Aerospace Engineering, Telecommunication Engineering, Civil Engineering, Chemical Engineering, and BME. \\n\\n**Preparatory Programming Requirement**  \\n*1 Course - 4 units total.*  \\nCSCI 455 | Introduction to Programming Systems Design (4 units)  \\n*The preparatory programming requirement and foundational requirements must be completed at USC and cannot be transferred in or waived.* \\n\\n**Foundational Requirements**  \\n*2 Courses Required - minimum 8 units total.*  \\nEE 457 | Computer Systems Organization OR EE 450 (4 units)  \\nEE 450 | Computer Networks OR EE 457 (4 units)  \\nCSCI 402 | Operating Systems (4 units)\",\n",
       " 'https://viterbiadmission.usc.edu/transfer/': 'To be eligible for admission to the MS CS program at USC, you should have the following completed or in-progress at the point of application:\\n\\n- **Two math courses** (either calculus or higher level math beyond calculus) with a minimum of Calculus II in-progress at the point of application. Competitive applicants will show proven success in two calculus and/or higher level math courses (beyond calculus).\\n\\n- **Two lab-based science courses** (either chemistry, or calculus-based physics) or programming courses. Competitive applicants will show proven success in two lab science or two programming courses at their current or intended college/university.\\n\\n- The equivalent of **WRIT 130/WRIT 150** (typically the second course in your college or university’s English composition sequence).\\n\\n- **Programming courses** may be taken instead of, or in addition to, lab-based science courses before applying to transfer to USC. \\n\\nSince math and science courses are foundational, it is expected that competitive applicants excel in these areas.'}"
      ]
     },
     "execution_count": 31,
     "metadata": {},
     "output_type": "execute_result"
    }
   ],
   "source": [
    "filtered_content = filter_content(query, content)\n",
    "filtered_content"
   ]
  },
  {
   "cell_type": "code",
   "execution_count": 32,
   "metadata": {},
   "outputs": [
    {
     "name": "stdout",
     "output_type": "stream",
     "text": [
      "What are some CS courses that I should already have taken to be considered for admission in the MS CS program at USC\n",
      "To be considered for admission to the MS CS program at USC, you should ideally have completed or be in progress of completing an undergraduate degree in computer science or a closely related field. If your degree is not in computer science, you will need coursework and demonstrated proficiency in at least three of the following core Computer Science courses:\n",
      "\n",
      "1. Artificial Intelligence\n",
      "2. Operating Systems\n",
      "3. Compilers\n",
      "4. Software Engineering\n",
      "5. Computer Architecture\n",
      "6. Database Systems\n",
      "7. Computer Communications\n",
      "8. Software Design in Computer Science\n",
      "9. Computer Vision\n",
      "10. 3D Graphics and Rendering\n",
      "11. Geometric Modeling\n",
      "12. Robotics\n",
      "\n",
      "Additionally, you must have at least one of the following Computer Science related Mathematics courses:\n",
      "\n",
      "- Algorithms\n",
      "- Data Structures\n",
      "- Discrete Math\n",
      "- Discrete Structures\n",
      "- Numerical Computation\n",
      "\n",
      "It's also recommended to have a background in areas such as operating systems, networks, databases, and programming, as well as experience with probability and statistics.\n"
     ]
    }
   ],
   "source": [
    "print(query)\n",
    "print(generate_response(query, filtered_content))"
   ]
  }
 ],
 "metadata": {
  "kernelspec": {
   "display_name": "venv",
   "language": "python",
   "name": "python3"
  },
  "language_info": {
   "codemirror_mode": {
    "name": "ipython",
    "version": 3
   },
   "file_extension": ".py",
   "mimetype": "text/x-python",
   "name": "python",
   "nbconvert_exporter": "python",
   "pygments_lexer": "ipython3",
   "version": "3.12.4"
  }
 },
 "nbformat": 4,
 "nbformat_minor": 2
}
